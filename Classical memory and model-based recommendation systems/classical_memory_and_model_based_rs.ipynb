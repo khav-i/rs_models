{
 "cells": [
  {
   "cell_type": "markdown",
   "metadata": {},
   "source": [
    "# **Classical memory and model-based recommendation systems**\n",
    "\n",
    "Сначала мы опробуем подход memory-based в модификации item-based, а затем SVD. Результаты применения обоих алгоритмов мы сможем сравнить с помощью метрики RMSE.\n",
    "\n",
    "Для создания алгоритмов рекомендательной системы будем использовать библиотеку [surprise](https://surpriselib.com/).\n",
    "\n",
    "Для обучения моделей возьмём датасет [movielens](https://lms-cdn.skillfactory.ru/assets/courseware/v1/6e47046882bad158b0efbb84cd5cb987/asset-v1:SkillFactory+DSPR-2.0+14JULY2021+type@asset+block/u.data.txt), который содержит информацию о фильмах и выставленных рейтингах с сайта https://movielens.org/.\n",
    "\n",
    "## Загрузка инструментов и данных"
   ]
  },
  {
   "cell_type": "code",
   "execution_count": 1,
   "metadata": {},
   "outputs": [
    {
     "name": "stdout",
     "output_type": "stream",
     "text": [
      "<class 'pandas.core.frame.DataFrame'>\n",
      "RangeIndex: 100000 entries, 0 to 99999\n",
      "Data columns (total 4 columns):\n",
      " #   Column     Non-Null Count   Dtype  \n",
      "---  ------     --------------   -----  \n",
      " 0   userId     100000 non-null  object \n",
      " 1   movieId    100000 non-null  object \n",
      " 2   rating     100000 non-null  float64\n",
      " 3   timestamp  100000 non-null  object \n",
      "dtypes: float64(1), object(3)\n",
      "memory usage: 3.1+ MB\n"
     ]
    }
   ],
   "source": [
    "import random\n",
    "import pandas as pd\n",
    "from surprise import Dataset\n",
    "from surprise import Reader\n",
    "from surprise import model_selection\n",
    "from surprise.dataset import BUILTIN_DATASETS #с помощью данного объекта мы можем использовать встроенные датасеты\n",
    "from surprise import SVD, KNNBasic, accuracy\n",
    "\n",
    "import matplotlib.pyplot as plt\n",
    "\n",
    "movielens_data = Dataset.load_from_file(\n",
    "    \"data/u.data.txt\",\n",
    "    reader=Reader(line_format=\"user item rating timestamp\", sep=\"\\t\", rating_scale=(0, 5)),\n",
    ")\n",
    "\n",
    "# Преобразуем данные к формату pandas DataFrame для удобной работы с ними\n",
    "movielens_df = pd.DataFrame(movielens_data.raw_ratings, columns=['userId', 'movieId', 'rating', 'timestamp'])\n",
    "\n",
    "movielens_df.info()"
   ]
  },
  {
   "cell_type": "markdown",
   "metadata": {},
   "source": [
    "## Анализ данных\n",
    "\n",
    "В данных присутствуют следующие признаки:\n",
    "* `userId` — идентификаторы пользователей сайта movielens;\n",
    "* `movieId` — идентификаторы фильмов;\n",
    "* `rating` — оценки фильмов, выставленные пользователями по шкале от 1 до 5;\n",
    "* `timestamp` — время оценки фильма пользователем. Данный формат представления времени показывает, сколько секунд прошло с 1 января 1970 года."
   ]
  },
  {
   "cell_type": "code",
   "execution_count": 2,
   "metadata": {},
   "outputs": [
    {
     "name": "stdout",
     "output_type": "stream",
     "text": [
      "movielens data shape: (100000, 4)\n"
     ]
    },
    {
     "data": {
      "text/html": [
       "<div>\n",
       "<style scoped>\n",
       "    .dataframe tbody tr th:only-of-type {\n",
       "        vertical-align: middle;\n",
       "    }\n",
       "\n",
       "    .dataframe tbody tr th {\n",
       "        vertical-align: top;\n",
       "    }\n",
       "\n",
       "    .dataframe thead th {\n",
       "        text-align: right;\n",
       "    }\n",
       "</style>\n",
       "<table border=\"1\" class=\"dataframe\">\n",
       "  <thead>\n",
       "    <tr style=\"text-align: right;\">\n",
       "      <th></th>\n",
       "      <th>userId</th>\n",
       "      <th>movieId</th>\n",
       "      <th>rating</th>\n",
       "      <th>timestamp</th>\n",
       "    </tr>\n",
       "  </thead>\n",
       "  <tbody>\n",
       "    <tr>\n",
       "      <th>0</th>\n",
       "      <td>196</td>\n",
       "      <td>242</td>\n",
       "      <td>3.0</td>\n",
       "      <td>881250949</td>\n",
       "    </tr>\n",
       "    <tr>\n",
       "      <th>1</th>\n",
       "      <td>186</td>\n",
       "      <td>302</td>\n",
       "      <td>3.0</td>\n",
       "      <td>891717742</td>\n",
       "    </tr>\n",
       "    <tr>\n",
       "      <th>2</th>\n",
       "      <td>22</td>\n",
       "      <td>377</td>\n",
       "      <td>1.0</td>\n",
       "      <td>878887116</td>\n",
       "    </tr>\n",
       "    <tr>\n",
       "      <th>3</th>\n",
       "      <td>244</td>\n",
       "      <td>51</td>\n",
       "      <td>2.0</td>\n",
       "      <td>880606923</td>\n",
       "    </tr>\n",
       "    <tr>\n",
       "      <th>4</th>\n",
       "      <td>166</td>\n",
       "      <td>346</td>\n",
       "      <td>1.0</td>\n",
       "      <td>886397596</td>\n",
       "    </tr>\n",
       "  </tbody>\n",
       "</table>\n",
       "</div>"
      ],
      "text/plain": [
       "  userId movieId  rating  timestamp\n",
       "0    196     242     3.0  881250949\n",
       "1    186     302     3.0  891717742\n",
       "2     22     377     1.0  878887116\n",
       "3    244      51     2.0  880606923\n",
       "4    166     346     1.0  886397596"
      ]
     },
     "execution_count": 2,
     "metadata": {},
     "output_type": "execute_result"
    }
   ],
   "source": [
    "print('movielens data shape:', movielens_df.shape)\n",
    "movielens_df.head()"
   ]
  },
  {
   "cell_type": "markdown",
   "metadata": {},
   "source": [
    "Посмотрим на число уникальных фильмов в наборе данных и аналогично — сколько уникальных пользователей."
   ]
  },
  {
   "cell_type": "code",
   "execution_count": 3,
   "metadata": {},
   "outputs": [
    {
     "name": "stdout",
     "output_type": "stream",
     "text": [
      "Число уникальных фильмов: 1682\n",
      "Число уникальных пользователей: 943\n"
     ]
    }
   ],
   "source": [
    "print('Число уникальных фильмов:', movielens_df.movieId.nunique())\n",
    "print('Число уникальных пользователей:', movielens_df.userId.nunique())"
   ]
  },
  {
   "cell_type": "markdown",
   "metadata": {},
   "source": [
    "А распределение оценок можно отобразить графически."
   ]
  },
  {
   "cell_type": "code",
   "execution_count": 4,
   "metadata": {},
   "outputs": [
    {
     "data": {
      "image/png": "[encoded data removed]",
      "text/plain": [
       "<Figure size 640x480 with 1 Axes>"
      ]
     },
     "metadata": {},
     "output_type": "display_data"
    }
   ],
   "source": [
    "plt.hist(movielens_df.rating, bins=5, edgecolor='black')\n",
    "plt.xlabel('Rating')\n",
    "plt.xticks(range(1, 6))\n",
    "plt.ylabel('Frequency')\n",
    "plt.title('Distribution of Movie Ratings')\n",
    "plt.show()"
   ]
  },
  {
   "cell_type": "markdown",
   "metadata": {},
   "source": [
    "## Моделирование\n",
    "\n",
    "Библиотека surprise очень похожа на библиотеку sklearn, и тоже позволяет разбить данные на обучающую и тестовую выборки всего одной функцией — [surprise.model_selection.train_test_split()](https://surprise.readthedocs.io/en/stable/getting_started.html#train-test-split-and-the-fit-method).\n",
    "\n",
    "### Сэмплирование данных\n",
    "\n",
    "Разобъём данные на обучающую и тестовую выборки.<br>Объём тестовой выборки составит 25 % от общего объёма данных.<br>В качестве значения параметра random_state по традиции возьмём 42."
   ]
  },
  {
   "cell_type": "code",
   "execution_count": 5,
   "metadata": {},
   "outputs": [
    {
     "name": "stdout",
     "output_type": "stream",
     "text": [
      "Testset len: 25000\n"
     ]
    }
   ],
   "source": [
    "trainset, testset = model_selection.train_test_split(\n",
    "    movielens_data, test_size=0.25, random_state=42\n",
    "    )\n",
    "print('Testset len:', len(testset))"
   ]
  },
  {
   "cell_type": "markdown",
   "metadata": {},
   "source": [
    "### Item-memory-based model\n",
    "\n",
    "Импортируем функции для построения рекомендательных систем (SVD — для model-based-подхода и KNNBasic — для memory-basic-подхода) и для оценки качества результата.\n",
    "\n",
    "Реализуем обычную коллаборативную фильтрацию. Выберем оценку схожести через косинусную близость и item-based-подход:"
   ]
  },
  {
   "cell_type": "code",
   "execution_count": 6,
   "metadata": {},
   "outputs": [
    {
     "name": "stdout",
     "output_type": "stream",
     "text": [
      "Computing the cosine similarity matrix...\n",
      "Done computing similarity matrix.\n"
     ]
    },
    {
     "data": {
      "text/plain": [
       "[Prediction(uid='391', iid='591', r_ui=4.0, est=3.8010554567440296, details={'actual_k': 40, 'was_impossible': False}),\n",
       " Prediction(uid='181', iid='1291', r_ui=1.0, est=1.575, details={'actual_k': 40, 'was_impossible': False}),\n",
       " Prediction(uid='637', iid='268', r_ui=2.0, est=2.578661267671375, details={'actual_k': 40, 'was_impossible': False}),\n",
       " Prediction(uid='332', iid='451', r_ui=5.0, est=4.218539848773929, details={'actual_k': 40, 'was_impossible': False}),\n",
       " Prediction(uid='271', iid='204', r_ui=4.0, est=3.8747323580353688, details={'actual_k': 40, 'was_impossible': False}),\n",
       " Prediction(uid='27', iid='286', r_ui=3.0, est=3.3467792803165364, details={'actual_k': 15, 'was_impossible': False}),\n",
       " Prediction(uid='387', iid='663', r_ui=4.0, est=3.573894935783497, details={'actual_k': 40, 'was_impossible': False}),\n",
       " Prediction(uid='92', iid='722', r_ui=3.0, est=3.1032111131745377, details={'actual_k': 40, 'was_impossible': False}),\n",
       " Prediction(uid='820', iid='347', r_ui=4.0, est=3.1463649106045817, details={'actual_k': 16, 'was_impossible': False}),\n",
       " Prediction(uid='479', iid='1444', r_ui=1.0, est=3.4256592139362665, details={'actual_k': 40, 'was_impossible': False})]"
      ]
     },
     "execution_count": 6,
     "metadata": {},
     "output_type": "execute_result"
    }
   ],
   "source": [
    "# Настройка параметров\n",
    "sim_options = {\n",
    "    'name': 'cosine',\n",
    "    'user_based': False\n",
    "}\n",
    "\n",
    "# Инициализация\n",
    "knn = KNNBasic(sim_options=sim_options)\n",
    "\n",
    "# Обучим алгоритм\n",
    "knn.fit(trainset)\n",
    "\n",
    "# Получение рекомендаций\n",
    "predictions = knn.test(testset)\n",
    "predictions[:10]"
   ]
  },
  {
   "cell_type": "markdown",
   "metadata": {},
   "source": [
    "Информация о каждой паре содержит следующие характеристики:\n",
    "* uid — id пользователя;\n",
    "* iid — id элемента;\n",
    "* r_ui (float) — реальный рейтинг, который этот пользователь поставил этому элементу;\n",
    "* est (float) — предсказанный рейтинг.\n",
    "\n",
    "Для примера сравним реальный и прогнозируемый рейтинги случайно выбранной пары пользователь-фильм."
   ]
  },
  {
   "cell_type": "code",
   "execution_count": 7,
   "metadata": {},
   "outputs": [
    {
     "name": "stdout",
     "output_type": "stream",
     "text": [
      "4.0\n",
      "3.75\n",
      "user: 64         item: 154        r_ui = None   est = 3.75   {'actual_k': 40, 'was_impossible': False}\n"
     ]
    }
   ],
   "source": [
    "random_pair = random.choice(predictions)\n",
    "\n",
    "uid = str(random_pair[0])\n",
    "iid = str(random_pair[1])  \n",
    "\n",
    "for prediction in predictions:\n",
    "    if prediction.uid == uid and prediction.iid == iid:\n",
    "        print(prediction.r_ui)\n",
    "        print(round(prediction.est, 2))\n",
    "        break\n",
    "\n",
    "pred = knn.predict(uid, iid, verbose=True)"
   ]
  },
  {
   "cell_type": "markdown",
   "metadata": {},
   "source": [
    "Теперь необходимо вычислить RMSE для получившихся предсказаний:"
   ]
  },
  {
   "cell_type": "code",
   "execution_count": 8,
   "metadata": {},
   "outputs": [
    {
     "name": "stdout",
     "output_type": "stream",
     "text": [
      "RMSE: 1.0321\n"
     ]
    }
   ],
   "source": [
    "accuracy.rmse(predictions);"
   ]
  },
  {
   "cell_type": "markdown",
   "metadata": {},
   "source": [
    "Итак, мы построили систему рекомендаций и даже оценили её качество. Но как же вывести рекомендации для конкретного пользователя?\n",
    "\n",
    "Для начала давайте оформим наши предсказания в таблицу и отсортируем их по прогнозируемому рейтингу:"
   ]
  },
  {
   "cell_type": "code",
   "execution_count": 9,
   "metadata": {},
   "outputs": [
    {
     "data": {
      "text/html": [
       "<div>\n",
       "<style scoped>\n",
       "    .dataframe tbody tr th:only-of-type {\n",
       "        vertical-align: middle;\n",
       "    }\n",
       "\n",
       "    .dataframe tbody tr th {\n",
       "        vertical-align: top;\n",
       "    }\n",
       "\n",
       "    .dataframe thead th {\n",
       "        text-align: right;\n",
       "    }\n",
       "</style>\n",
       "<table border=\"1\" class=\"dataframe\">\n",
       "  <thead>\n",
       "    <tr style=\"text-align: right;\">\n",
       "      <th></th>\n",
       "      <th>uid</th>\n",
       "      <th>iid</th>\n",
       "      <th>r_ui</th>\n",
       "      <th>est</th>\n",
       "      <th>details</th>\n",
       "    </tr>\n",
       "  </thead>\n",
       "  <tbody>\n",
       "    <tr>\n",
       "      <th>5823</th>\n",
       "      <td>118</td>\n",
       "      <td>188</td>\n",
       "      <td>5.0</td>\n",
       "      <td>4.924250</td>\n",
       "      <td>{'actual_k': 40, 'was_impossible': False}</td>\n",
       "    </tr>\n",
       "    <tr>\n",
       "      <th>6022</th>\n",
       "      <td>118</td>\n",
       "      <td>7</td>\n",
       "      <td>5.0</td>\n",
       "      <td>4.900015</td>\n",
       "      <td>{'actual_k': 40, 'was_impossible': False}</td>\n",
       "    </tr>\n",
       "    <tr>\n",
       "      <th>8763</th>\n",
       "      <td>118</td>\n",
       "      <td>433</td>\n",
       "      <td>5.0</td>\n",
       "      <td>4.899095</td>\n",
       "      <td>{'actual_k': 40, 'was_impossible': False}</td>\n",
       "    </tr>\n",
       "    <tr>\n",
       "      <th>2405</th>\n",
       "      <td>118</td>\n",
       "      <td>193</td>\n",
       "      <td>5.0</td>\n",
       "      <td>4.876870</td>\n",
       "      <td>{'actual_k': 40, 'was_impossible': False}</td>\n",
       "    </tr>\n",
       "    <tr>\n",
       "      <th>13251</th>\n",
       "      <td>118</td>\n",
       "      <td>180</td>\n",
       "      <td>5.0</td>\n",
       "      <td>4.875483</td>\n",
       "      <td>{'actual_k': 40, 'was_impossible': False}</td>\n",
       "    </tr>\n",
       "  </tbody>\n",
       "</table>\n",
       "</div>"
      ],
      "text/plain": [
       "       uid  iid  r_ui       est                                    details\n",
       "5823   118  188   5.0  4.924250  {'actual_k': 40, 'was_impossible': False}\n",
       "6022   118    7   5.0  4.900015  {'actual_k': 40, 'was_impossible': False}\n",
       "8763   118  433   5.0  4.899095  {'actual_k': 40, 'was_impossible': False}\n",
       "2405   118  193   5.0  4.876870  {'actual_k': 40, 'was_impossible': False}\n",
       "13251  118  180   5.0  4.875483  {'actual_k': 40, 'was_impossible': False}"
      ]
     },
     "execution_count": 9,
     "metadata": {},
     "output_type": "execute_result"
    }
   ],
   "source": [
    "pred = pd.DataFrame(predictions)\n",
    "pred.sort_values(by=['est'], inplace=True, ascending = False)\n",
    "\n",
    "pred[:5]"
   ]
  },
  {
   "cell_type": "markdown",
   "metadata": {},
   "source": [
    "Теперь мы можем вывести рекомендуемые для конкретного пользователя фильмы, начиная от наиболее релевантного (с точки зрения рекомендаций) и заканчивая наименее релевантным."
   ]
  },
  {
   "cell_type": "code",
   "execution_count": 10,
   "metadata": {},
   "outputs": [
    {
     "name": "stdout",
     "output_type": "stream",
     "text": [
      "random uid: 73\n",
      "10 recommended movie ids: ['475', '269', '179', '48', '357', '197', '59', '28', '135', '480']\n"
     ]
    }
   ],
   "source": [
    "random_uid = random.choice(list(pred.uid.values))\n",
    "print('random uid:', random_uid)\n",
    "\n",
    "recom = pred[pred.uid == random_uid]['iid'].to_list()\n",
    "\n",
    "print('10 recommended movie ids:', recom[:10])"
   ]
  },
  {
   "cell_type": "markdown",
   "metadata": {},
   "source": [
    "### User-memory-based model\n",
    "\n",
    "Реализуем теперь *user-based*-алгоритм."
   ]
  },
  {
   "cell_type": "code",
   "execution_count": 11,
   "metadata": {},
   "outputs": [
    {
     "name": "stdout",
     "output_type": "stream",
     "text": [
      "Computing the cosine similarity matrix...\n",
      "Done computing similarity matrix.\n",
      "RMSE: 1.0223\n"
     ]
    }
   ],
   "source": [
    "sim_options = {\n",
    "    'name': 'cosine'\n",
    "}\n",
    "\n",
    "# Инициализация\n",
    "knn = KNNBasic(sim_options=sim_options)\n",
    "\n",
    "# Обучим алгоритм\n",
    "knn.fit(trainset)\n",
    "\n",
    "# Получение рекомендаций\n",
    "predictions = knn.test(testset)\n",
    "\n",
    "# Расчет метрики\n",
    "accuracy.rmse(predictions);"
   ]
  },
  {
   "cell_type": "markdown",
   "metadata": {},
   "source": [
    "Ошибка стала незначительно меньше."
   ]
  },
  {
   "cell_type": "markdown",
   "metadata": {},
   "source": [
    "### SVD model\n",
    "\n",
    "Теперь давайте сравним полученные результаты с результатами SVD-алгоритма.<br>Реализуем SVD с параметрами по умолчанию."
   ]
  },
  {
   "cell_type": "code",
   "execution_count": 12,
   "metadata": {},
   "outputs": [
    {
     "name": "stdout",
     "output_type": "stream",
     "text": [
      "RMSE: 0.9434\n"
     ]
    }
   ],
   "source": [
    "model = SVD()\n",
    "model.fit(trainset)\n",
    "predictions = model.test(testset)\n",
    "accuracy.rmse(predictions);"
   ]
  },
  {
   "cell_type": "markdown",
   "metadata": {},
   "source": [
    "Ошибка стала ещё меньше — SVD вышел победителем."
   ]
  },
  {
   "cell_type": "code",
   "execution_count": 13,
   "metadata": {},
   "outputs": [
    {
     "data": {
      "text/plain": [
       "[Prediction(uid='391', iid='591', r_ui=4.0, est=3.579327234974192, details={'was_impossible': False}),\n",
       " Prediction(uid='181', iid='1291', r_ui=1.0, est=1.4495534558376943, details={'was_impossible': False}),\n",
       " Prediction(uid='637', iid='268', r_ui=2.0, est=2.8757614680238137, details={'was_impossible': False}),\n",
       " Prediction(uid='332', iid='451', r_ui=5.0, est=3.8273325699944802, details={'was_impossible': False}),\n",
       " Prediction(uid='271', iid='204', r_ui=4.0, est=3.4533584603267515, details={'was_impossible': False}),\n",
       " Prediction(uid='27', iid='286', r_ui=3.0, est=3.3610375034580673, details={'was_impossible': False}),\n",
       " Prediction(uid='387', iid='663', r_ui=4.0, est=4.431833194640713, details={'was_impossible': False}),\n",
       " Prediction(uid='92', iid='722', r_ui=3.0, est=2.745482981549118, details={'was_impossible': False}),\n",
       " Prediction(uid='820', iid='347', r_ui=4.0, est=3.6613960220876374, details={'was_impossible': False}),\n",
       " Prediction(uid='479', iid='1444', r_ui=1.0, est=2.809987555154942, details={'was_impossible': False})]"
      ]
     },
     "execution_count": 13,
     "metadata": {},
     "output_type": "execute_result"
    }
   ],
   "source": [
    "predictions[:10]"
   ]
  }
 ],
 "metadata": {
  "kernelspec": {
   "display_name": "Python 3",
   "language": "python",
   "name": "python3"
  },
  "language_info": {
   "codemirror_mode": {
    "name": "ipython",
    "version": 3
   },
   "file_extension": ".py",
   "mimetype": "text/x-python",
   "name": "python",
   "nbconvert_exporter": "python",
   "pygments_lexer": "ipython3",
   "version": "3.11.1"
  }
 },
 "nbformat": 4,
 "nbformat_minor": 2
}
